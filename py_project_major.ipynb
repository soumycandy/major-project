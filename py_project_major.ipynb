{
  "nbformat": 4,
  "nbformat_minor": 0,
  "metadata": {
    "colab": {
      "provenance": [],
      "include_colab_link": true
    },
    "kernelspec": {
      "name": "python3",
      "display_name": "Python 3"
    },
    "language_info": {
      "name": "python"
    }
  },
  "cells": [
    {
      "cell_type": "markdown",
      "metadata": {
        "id": "view-in-github",
        "colab_type": "text"
      },
      "source": [
        "<a href=\"https://colab.research.google.com/github/soumycandy/major-project/blob/main/py_project_major.ipynb\" target=\"_parent\"><img src=\"https://colab.research.google.com/assets/colab-badge.svg\" alt=\"Open In Colab\"/></a>"
      ]
    },
    {
      "cell_type": "code",
      "execution_count": null,
      "metadata": {
        "id": "NeiBuY4D9ghI"
      },
      "outputs": [],
      "source": [
        "import numpy as np\n",
        "import pandas as pd"
      ]
    },
    {
      "cell_type": "code",
      "source": [
        "df=pd.read_csv(\"filmtv_movies.csv\")"
      ],
      "metadata": {
        "id": "GVJlI8BU-CEP"
      },
      "execution_count": null,
      "outputs": []
    },
    {
      "cell_type": "code",
      "source": [
        "df.head()"
      ],
      "metadata": {
        "colab": {
          "base_uri": "https://localhost:8080/",
          "height": 660
        },
        "id": "MbtIPkJO-Msp",
        "outputId": "ec8a0580-f000-488d-9ec4-f0e3c5a144e1"
      },
      "execution_count": null,
      "outputs": [
        {
          "output_type": "execute_result",
          "data": {
            "text/plain": [
              "   filmtv_id                                        title  year      genre  \\\n",
              "0          2  Bugs Bunny's Third Movie: 1001 Rabbit Tales  1982  Animation   \n",
              "1          3                    18 anni tra una settimana  1991      Drama   \n",
              "2         17                             Ride a Wild Pony  1976   Romantic   \n",
              "3         18                                        Diner  1982     Comedy   \n",
              "4         20              A che servono questi quattrini?  1942     Comedy   \n",
              "\n",
              "   duration        country                             directors  \\\n",
              "0        76  United States  David Detiege, Art Davis, Bill Perez   \n",
              "1        98          Italy                         Luigi Perelli   \n",
              "2        91  United States                           Don Chaffey   \n",
              "3        95  United States                        Barry Levinson   \n",
              "4        85          Italy                        Esodo Pratelli   \n",
              "\n",
              "                                              actors  avg_vote  critics_vote  \\\n",
              "0                                                NaN       7.7          8.00   \n",
              "1  Kim Rossi Stuart, Simona Cavallari, Ennio Fant...       6.5          6.00   \n",
              "2  Michael Craig, John Meillon, Eva Griffith, Gra...       5.7          6.00   \n",
              "3  Mickey Rourke, Steve Guttenberg, Ellen Barkin,...       7.0          8.00   \n",
              "4  Eduardo De Filippo, Peppino De Filippo, Clelia...       5.9          5.33   \n",
              "\n",
              "   public_vote  total_votes  \\\n",
              "0          7.0           22   \n",
              "1          7.0            4   \n",
              "2          5.0           10   \n",
              "3          6.0           18   \n",
              "4          7.0           15   \n",
              "\n",
              "                                         description  \\\n",
              "0  With two protruding front teeth, a slightly sl...   \n",
              "1  Samantha, not yet eighteen, leaves the comfort...   \n",
              "2  In the Australia of the pioneers, a boy and a ...   \n",
              "3  Five boys from Baltimore have a habit of meeti...   \n",
              "4  With a stratagem, the penniless and somewhat p...   \n",
              "\n",
              "                                               notes  humor  rhythm  effort  \\\n",
              "0  These are many small independent stories, whic...      3       3       0   \n",
              "1  Luigi Perelli, the director of the \"Piovra\", o...      0       2       0   \n",
              "2  \"Ecological\" story with a happy ending, not wi...      1       2       1   \n",
              "3  A cast of will be famous for Levinson's direct...      2       2       0   \n",
              "4  Taken from the play by Armando Curcio that the...      3       1       1   \n",
              "\n",
              "   tension  erotism  \n",
              "0        0        0  \n",
              "1        2        0  \n",
              "2        0        0  \n",
              "3        1        2  \n",
              "4        0        0  "
            ],
            "text/html": [
              "\n",
              "  <div id=\"df-729f8fb2-26bc-4aed-8789-4c25890c395a\" class=\"colab-df-container\">\n",
              "    <div>\n",
              "<style scoped>\n",
              "    .dataframe tbody tr th:only-of-type {\n",
              "        vertical-align: middle;\n",
              "    }\n",
              "\n",
              "    .dataframe tbody tr th {\n",
              "        vertical-align: top;\n",
              "    }\n",
              "\n",
              "    .dataframe thead th {\n",
              "        text-align: right;\n",
              "    }\n",
              "</style>\n",
              "<table border=\"1\" class=\"dataframe\">\n",
              "  <thead>\n",
              "    <tr style=\"text-align: right;\">\n",
              "      <th></th>\n",
              "      <th>filmtv_id</th>\n",
              "      <th>title</th>\n",
              "      <th>year</th>\n",
              "      <th>genre</th>\n",
              "      <th>duration</th>\n",
              "      <th>country</th>\n",
              "      <th>directors</th>\n",
              "      <th>actors</th>\n",
              "      <th>avg_vote</th>\n",
              "      <th>critics_vote</th>\n",
              "      <th>public_vote</th>\n",
              "      <th>total_votes</th>\n",
              "      <th>description</th>\n",
              "      <th>notes</th>\n",
              "      <th>humor</th>\n",
              "      <th>rhythm</th>\n",
              "      <th>effort</th>\n",
              "      <th>tension</th>\n",
              "      <th>erotism</th>\n",
              "    </tr>\n",
              "  </thead>\n",
              "  <tbody>\n",
              "    <tr>\n",
              "      <th>0</th>\n",
              "      <td>2</td>\n",
              "      <td>Bugs Bunny's Third Movie: 1001 Rabbit Tales</td>\n",
              "      <td>1982</td>\n",
              "      <td>Animation</td>\n",
              "      <td>76</td>\n",
              "      <td>United States</td>\n",
              "      <td>David Detiege, Art Davis, Bill Perez</td>\n",
              "      <td>NaN</td>\n",
              "      <td>7.7</td>\n",
              "      <td>8.00</td>\n",
              "      <td>7.0</td>\n",
              "      <td>22</td>\n",
              "      <td>With two protruding front teeth, a slightly sl...</td>\n",
              "      <td>These are many small independent stories, whic...</td>\n",
              "      <td>3</td>\n",
              "      <td>3</td>\n",
              "      <td>0</td>\n",
              "      <td>0</td>\n",
              "      <td>0</td>\n",
              "    </tr>\n",
              "    <tr>\n",
              "      <th>1</th>\n",
              "      <td>3</td>\n",
              "      <td>18 anni tra una settimana</td>\n",
              "      <td>1991</td>\n",
              "      <td>Drama</td>\n",
              "      <td>98</td>\n",
              "      <td>Italy</td>\n",
              "      <td>Luigi Perelli</td>\n",
              "      <td>Kim Rossi Stuart, Simona Cavallari, Ennio Fant...</td>\n",
              "      <td>6.5</td>\n",
              "      <td>6.00</td>\n",
              "      <td>7.0</td>\n",
              "      <td>4</td>\n",
              "      <td>Samantha, not yet eighteen, leaves the comfort...</td>\n",
              "      <td>Luigi Perelli, the director of the \"Piovra\", o...</td>\n",
              "      <td>0</td>\n",
              "      <td>2</td>\n",
              "      <td>0</td>\n",
              "      <td>2</td>\n",
              "      <td>0</td>\n",
              "    </tr>\n",
              "    <tr>\n",
              "      <th>2</th>\n",
              "      <td>17</td>\n",
              "      <td>Ride a Wild Pony</td>\n",
              "      <td>1976</td>\n",
              "      <td>Romantic</td>\n",
              "      <td>91</td>\n",
              "      <td>United States</td>\n",
              "      <td>Don Chaffey</td>\n",
              "      <td>Michael Craig, John Meillon, Eva Griffith, Gra...</td>\n",
              "      <td>5.7</td>\n",
              "      <td>6.00</td>\n",
              "      <td>5.0</td>\n",
              "      <td>10</td>\n",
              "      <td>In the Australia of the pioneers, a boy and a ...</td>\n",
              "      <td>\"Ecological\" story with a happy ending, not wi...</td>\n",
              "      <td>1</td>\n",
              "      <td>2</td>\n",
              "      <td>1</td>\n",
              "      <td>0</td>\n",
              "      <td>0</td>\n",
              "    </tr>\n",
              "    <tr>\n",
              "      <th>3</th>\n",
              "      <td>18</td>\n",
              "      <td>Diner</td>\n",
              "      <td>1982</td>\n",
              "      <td>Comedy</td>\n",
              "      <td>95</td>\n",
              "      <td>United States</td>\n",
              "      <td>Barry Levinson</td>\n",
              "      <td>Mickey Rourke, Steve Guttenberg, Ellen Barkin,...</td>\n",
              "      <td>7.0</td>\n",
              "      <td>8.00</td>\n",
              "      <td>6.0</td>\n",
              "      <td>18</td>\n",
              "      <td>Five boys from Baltimore have a habit of meeti...</td>\n",
              "      <td>A cast of will be famous for Levinson's direct...</td>\n",
              "      <td>2</td>\n",
              "      <td>2</td>\n",
              "      <td>0</td>\n",
              "      <td>1</td>\n",
              "      <td>2</td>\n",
              "    </tr>\n",
              "    <tr>\n",
              "      <th>4</th>\n",
              "      <td>20</td>\n",
              "      <td>A che servono questi quattrini?</td>\n",
              "      <td>1942</td>\n",
              "      <td>Comedy</td>\n",
              "      <td>85</td>\n",
              "      <td>Italy</td>\n",
              "      <td>Esodo Pratelli</td>\n",
              "      <td>Eduardo De Filippo, Peppino De Filippo, Clelia...</td>\n",
              "      <td>5.9</td>\n",
              "      <td>5.33</td>\n",
              "      <td>7.0</td>\n",
              "      <td>15</td>\n",
              "      <td>With a stratagem, the penniless and somewhat p...</td>\n",
              "      <td>Taken from the play by Armando Curcio that the...</td>\n",
              "      <td>3</td>\n",
              "      <td>1</td>\n",
              "      <td>1</td>\n",
              "      <td>0</td>\n",
              "      <td>0</td>\n",
              "    </tr>\n",
              "  </tbody>\n",
              "</table>\n",
              "</div>\n",
              "    <div class=\"colab-df-buttons\">\n",
              "\n",
              "  <div class=\"colab-df-container\">\n",
              "    <button class=\"colab-df-convert\" onclick=\"convertToInteractive('df-729f8fb2-26bc-4aed-8789-4c25890c395a')\"\n",
              "            title=\"Convert this dataframe to an interactive table.\"\n",
              "            style=\"display:none;\">\n",
              "\n",
              "  <svg xmlns=\"http://www.w3.org/2000/svg\" height=\"24px\" viewBox=\"0 -960 960 960\">\n",
              "    <path d=\"M120-120v-720h720v720H120Zm60-500h600v-160H180v160Zm220 220h160v-160H400v160Zm0 220h160v-160H400v160ZM180-400h160v-160H180v160Zm440 0h160v-160H620v160ZM180-180h160v-160H180v160Zm440 0h160v-160H620v160Z\"/>\n",
              "  </svg>\n",
              "    </button>\n",
              "\n",
              "  <style>\n",
              "    .colab-df-container {\n",
              "      display:flex;\n",
              "      gap: 12px;\n",
              "    }\n",
              "\n",
              "    .colab-df-convert {\n",
              "      background-color: #E8F0FE;\n",
              "      border: none;\n",
              "      border-radius: 50%;\n",
              "      cursor: pointer;\n",
              "      display: none;\n",
              "      fill: #1967D2;\n",
              "      height: 32px;\n",
              "      padding: 0 0 0 0;\n",
              "      width: 32px;\n",
              "    }\n",
              "\n",
              "    .colab-df-convert:hover {\n",
              "      background-color: #E2EBFA;\n",
              "      box-shadow: 0px 1px 2px rgba(60, 64, 67, 0.3), 0px 1px 3px 1px rgba(60, 64, 67, 0.15);\n",
              "      fill: #174EA6;\n",
              "    }\n",
              "\n",
              "    .colab-df-buttons div {\n",
              "      margin-bottom: 4px;\n",
              "    }\n",
              "\n",
              "    [theme=dark] .colab-df-convert {\n",
              "      background-color: #3B4455;\n",
              "      fill: #D2E3FC;\n",
              "    }\n",
              "\n",
              "    [theme=dark] .colab-df-convert:hover {\n",
              "      background-color: #434B5C;\n",
              "      box-shadow: 0px 1px 3px 1px rgba(0, 0, 0, 0.15);\n",
              "      filter: drop-shadow(0px 1px 2px rgba(0, 0, 0, 0.3));\n",
              "      fill: #FFFFFF;\n",
              "    }\n",
              "  </style>\n",
              "\n",
              "    <script>\n",
              "      const buttonEl =\n",
              "        document.querySelector('#df-729f8fb2-26bc-4aed-8789-4c25890c395a button.colab-df-convert');\n",
              "      buttonEl.style.display =\n",
              "        google.colab.kernel.accessAllowed ? 'block' : 'none';\n",
              "\n",
              "      async function convertToInteractive(key) {\n",
              "        const element = document.querySelector('#df-729f8fb2-26bc-4aed-8789-4c25890c395a');\n",
              "        const dataTable =\n",
              "          await google.colab.kernel.invokeFunction('convertToInteractive',\n",
              "                                                    [key], {});\n",
              "        if (!dataTable) return;\n",
              "\n",
              "        const docLinkHtml = 'Like what you see? Visit the ' +\n",
              "          '<a target=\"_blank\" href=https://colab.research.google.com/notebooks/data_table.ipynb>data table notebook</a>'\n",
              "          + ' to learn more about interactive tables.';\n",
              "        element.innerHTML = '';\n",
              "        dataTable['output_type'] = 'display_data';\n",
              "        await google.colab.output.renderOutput(dataTable, element);\n",
              "        const docLink = document.createElement('div');\n",
              "        docLink.innerHTML = docLinkHtml;\n",
              "        element.appendChild(docLink);\n",
              "      }\n",
              "    </script>\n",
              "  </div>\n",
              "\n",
              "\n",
              "<div id=\"df-46e0d60b-2cba-44d9-94c0-81c47a66b43e\">\n",
              "  <button class=\"colab-df-quickchart\" onclick=\"quickchart('df-46e0d60b-2cba-44d9-94c0-81c47a66b43e')\"\n",
              "            title=\"Suggest charts\"\n",
              "            style=\"display:none;\">\n",
              "\n",
              "<svg xmlns=\"http://www.w3.org/2000/svg\" height=\"24px\"viewBox=\"0 0 24 24\"\n",
              "     width=\"24px\">\n",
              "    <g>\n",
              "        <path d=\"M19 3H5c-1.1 0-2 .9-2 2v14c0 1.1.9 2 2 2h14c1.1 0 2-.9 2-2V5c0-1.1-.9-2-2-2zM9 17H7v-7h2v7zm4 0h-2V7h2v10zm4 0h-2v-4h2v4z\"/>\n",
              "    </g>\n",
              "</svg>\n",
              "  </button>\n",
              "\n",
              "<style>\n",
              "  .colab-df-quickchart {\n",
              "      --bg-color: #E8F0FE;\n",
              "      --fill-color: #1967D2;\n",
              "      --hover-bg-color: #E2EBFA;\n",
              "      --hover-fill-color: #174EA6;\n",
              "      --disabled-fill-color: #AAA;\n",
              "      --disabled-bg-color: #DDD;\n",
              "  }\n",
              "\n",
              "  [theme=dark] .colab-df-quickchart {\n",
              "      --bg-color: #3B4455;\n",
              "      --fill-color: #D2E3FC;\n",
              "      --hover-bg-color: #434B5C;\n",
              "      --hover-fill-color: #FFFFFF;\n",
              "      --disabled-bg-color: #3B4455;\n",
              "      --disabled-fill-color: #666;\n",
              "  }\n",
              "\n",
              "  .colab-df-quickchart {\n",
              "    background-color: var(--bg-color);\n",
              "    border: none;\n",
              "    border-radius: 50%;\n",
              "    cursor: pointer;\n",
              "    display: none;\n",
              "    fill: var(--fill-color);\n",
              "    height: 32px;\n",
              "    padding: 0;\n",
              "    width: 32px;\n",
              "  }\n",
              "\n",
              "  .colab-df-quickchart:hover {\n",
              "    background-color: var(--hover-bg-color);\n",
              "    box-shadow: 0 1px 2px rgba(60, 64, 67, 0.3), 0 1px 3px 1px rgba(60, 64, 67, 0.15);\n",
              "    fill: var(--button-hover-fill-color);\n",
              "  }\n",
              "\n",
              "  .colab-df-quickchart-complete:disabled,\n",
              "  .colab-df-quickchart-complete:disabled:hover {\n",
              "    background-color: var(--disabled-bg-color);\n",
              "    fill: var(--disabled-fill-color);\n",
              "    box-shadow: none;\n",
              "  }\n",
              "\n",
              "  .colab-df-spinner {\n",
              "    border: 2px solid var(--fill-color);\n",
              "    border-color: transparent;\n",
              "    border-bottom-color: var(--fill-color);\n",
              "    animation:\n",
              "      spin 1s steps(1) infinite;\n",
              "  }\n",
              "\n",
              "  @keyframes spin {\n",
              "    0% {\n",
              "      border-color: transparent;\n",
              "      border-bottom-color: var(--fill-color);\n",
              "      border-left-color: var(--fill-color);\n",
              "    }\n",
              "    20% {\n",
              "      border-color: transparent;\n",
              "      border-left-color: var(--fill-color);\n",
              "      border-top-color: var(--fill-color);\n",
              "    }\n",
              "    30% {\n",
              "      border-color: transparent;\n",
              "      border-left-color: var(--fill-color);\n",
              "      border-top-color: var(--fill-color);\n",
              "      border-right-color: var(--fill-color);\n",
              "    }\n",
              "    40% {\n",
              "      border-color: transparent;\n",
              "      border-right-color: var(--fill-color);\n",
              "      border-top-color: var(--fill-color);\n",
              "    }\n",
              "    60% {\n",
              "      border-color: transparent;\n",
              "      border-right-color: var(--fill-color);\n",
              "    }\n",
              "    80% {\n",
              "      border-color: transparent;\n",
              "      border-right-color: var(--fill-color);\n",
              "      border-bottom-color: var(--fill-color);\n",
              "    }\n",
              "    90% {\n",
              "      border-color: transparent;\n",
              "      border-bottom-color: var(--fill-color);\n",
              "    }\n",
              "  }\n",
              "</style>\n",
              "\n",
              "  <script>\n",
              "    async function quickchart(key) {\n",
              "      const quickchartButtonEl =\n",
              "        document.querySelector('#' + key + ' button');\n",
              "      quickchartButtonEl.disabled = true;  // To prevent multiple clicks.\n",
              "      quickchartButtonEl.classList.add('colab-df-spinner');\n",
              "      try {\n",
              "        const charts = await google.colab.kernel.invokeFunction(\n",
              "            'suggestCharts', [key], {});\n",
              "      } catch (error) {\n",
              "        console.error('Error during call to suggestCharts:', error);\n",
              "      }\n",
              "      quickchartButtonEl.classList.remove('colab-df-spinner');\n",
              "      quickchartButtonEl.classList.add('colab-df-quickchart-complete');\n",
              "    }\n",
              "    (() => {\n",
              "      let quickchartButtonEl =\n",
              "        document.querySelector('#df-46e0d60b-2cba-44d9-94c0-81c47a66b43e button');\n",
              "      quickchartButtonEl.style.display =\n",
              "        google.colab.kernel.accessAllowed ? 'block' : 'none';\n",
              "    })();\n",
              "  </script>\n",
              "</div>\n",
              "\n",
              "    </div>\n",
              "  </div>\n"
            ],
            "application/vnd.google.colaboratory.intrinsic+json": {
              "type": "dataframe",
              "variable_name": "df",
              "summary": "{\n  \"name\": \"df\",\n  \"rows\": 41399,\n  \"fields\": [\n    {\n      \"column\": \"filmtv_id\",\n      \"properties\": {\n        \"dtype\": \"number\",\n        \"std\": 59962,\n        \"min\": 2,\n        \"max\": 232920,\n        \"num_unique_values\": 41399,\n        \"samples\": [\n          20764,\n          26956,\n          49607\n        ],\n        \"semantic_type\": \"\",\n        \"description\": \"\"\n      }\n    },\n    {\n      \"column\": \"title\",\n      \"properties\": {\n        \"dtype\": \"string\",\n        \"num_unique_values\": 39531,\n        \"samples\": [\n          \"Un turco napoletano\",\n          \"Targets\",\n          \"Abgeschminkt!\"\n        ],\n        \"semantic_type\": \"\",\n        \"description\": \"\"\n      }\n    },\n    {\n      \"column\": \"year\",\n      \"properties\": {\n        \"dtype\": \"number\",\n        \"std\": 23,\n        \"min\": 1897,\n        \"max\": 2023,\n        \"num_unique_values\": 115,\n        \"samples\": [\n          1917,\n          1978,\n          1960\n        ],\n        \"semantic_type\": \"\",\n        \"description\": \"\"\n      }\n    },\n    {\n      \"column\": \"genre\",\n      \"properties\": {\n        \"dtype\": \"category\",\n        \"num_unique_values\": 30,\n        \"samples\": [\n          \"Sperimental\",\n          \"War\",\n          \"Noir\"\n        ],\n        \"semantic_type\": \"\",\n        \"description\": \"\"\n      }\n    },\n    {\n      \"column\": \"duration\",\n      \"properties\": {\n        \"dtype\": \"number\",\n        \"std\": 27,\n        \"min\": 41,\n        \"max\": 1525,\n        \"num_unique_values\": 269,\n        \"samples\": [\n          77,\n          64,\n          143\n        ],\n        \"semantic_type\": \"\",\n        \"description\": \"\"\n      }\n    },\n    {\n      \"column\": \"country\",\n      \"properties\": {\n        \"dtype\": \"category\",\n        \"num_unique_values\": 2087,\n        \"samples\": [\n          \"United States, Chile\",\n          \"Switzerland, Belgium, France\",\n          \"France, Italy, United States\"\n        ],\n        \"semantic_type\": \"\",\n        \"description\": \"\"\n      }\n    },\n    {\n      \"column\": \"directors\",\n      \"properties\": {\n        \"dtype\": \"category\",\n        \"num_unique_values\": 14752,\n        \"samples\": [\n          \"Mateusz Kudla, Anna Kokoszka-Romer\",\n          \"Gottfried Reinhardt\",\n          \"Alexander Babaev, Samantha A. Morrison\"\n        ],\n        \"semantic_type\": \"\",\n        \"description\": \"\"\n      }\n    },\n    {\n      \"column\": \"actors\",\n      \"properties\": {\n        \"dtype\": \"string\",\n        \"num_unique_values\": 39142,\n        \"samples\": [\n          \"Forest Whitaker, James McAvoy, Kerry Washington, Gillian Anderson, Simon McBurney\",\n          \"Jean Sorel, Ewa Aulin, Lucia Bos\\u00e9, Silvano Tranquilli, Sergio Doria\",\n          \"Liam Neeson, Patricia Arquette, Joan Allen, Tate Donovan, Katherine Houghton\"\n        ],\n        \"semantic_type\": \"\",\n        \"description\": \"\"\n      }\n    },\n    {\n      \"column\": \"avg_vote\",\n      \"properties\": {\n        \"dtype\": \"number\",\n        \"std\": 1.4038613570075202,\n        \"min\": 1.0,\n        \"max\": 10.0,\n        \"num_unique_values\": 90,\n        \"samples\": [\n          8.1,\n          8.0,\n          3.9\n        ],\n        \"semantic_type\": \"\",\n        \"description\": \"\"\n      }\n    },\n    {\n      \"column\": \"critics_vote\",\n      \"properties\": {\n        \"dtype\": \"number\",\n        \"std\": 1.5930622106340093,\n        \"min\": 1.0,\n        \"max\": 10.0,\n        \"num_unique_values\": 625,\n        \"samples\": [\n          4.36,\n          6.35,\n          8.94\n        ],\n        \"semantic_type\": \"\",\n        \"description\": \"\"\n      }\n    },\n    {\n      \"column\": \"public_vote\",\n      \"properties\": {\n        \"dtype\": \"number\",\n        \"std\": 1.4801115511911147,\n        \"min\": 1.0,\n        \"max\": 10.0,\n        \"num_unique_values\": 10,\n        \"samples\": [\n          1.0,\n          5.0,\n          4.0\n        ],\n        \"semantic_type\": \"\",\n        \"description\": \"\"\n      }\n    },\n    {\n      \"column\": \"total_votes\",\n      \"properties\": {\n        \"dtype\": \"number\",\n        \"std\": 69,\n        \"min\": 1,\n        \"max\": 1082,\n        \"num_unique_values\": 592,\n        \"samples\": [\n          399,\n          1,\n          370\n        ],\n        \"semantic_type\": \"\",\n        \"description\": \"\"\n      }\n    },\n    {\n      \"column\": \"description\",\n      \"properties\": {\n        \"dtype\": \"string\",\n        \"num_unique_values\": 39751,\n        \"samples\": [\n          \"The Enterprise abandons its normal mission to prevent the fearsome Khan from taking over the important Genesis project. In the dramatic confrontation Kirk finds the love of his ex-wife again. Second cinematic episode of the famous cosmic saga. Robert Wise has given up his place in the control room to the more cheap Nicholas Meyer and the story sometimes has some jokes.\",\n          \"After seeing Sadako's cursed videotape in the Kayako-haunted house, young Yuri becomes embroiled in an epochal confrontation between the two demons.\",\n          \"Sheila, wife of the well-known shipowner Cabot, has David, the family doctor, for her lover. The two kill Cabot, but his secretary, Mason, secretly in love with the woman, suspects what the terrible truth is. Some anonymous letters, however, convince David to eliminate him; the two evil lovers feel safe at this point. Now it is Cathy, however, Cabot's daughter, who feeds suspicions that she recklessly reveals to David. Michael Gordon is considered by critics to be a good craftsman; victim of McCarthyism, he did not find work in Hollywood for about ten years; then he shot this honest thriller.\"\n        ],\n        \"semantic_type\": \"\",\n        \"description\": \"\"\n      }\n    },\n    {\n      \"column\": \"notes\",\n      \"properties\": {\n        \"dtype\": \"category\",\n        \"num_unique_values\": 18623,\n        \"samples\": [\n          \"Enzo Bottesini was a champion of \\\"Rischiatutto\\\". The remarkable Emanuelle (Laura Gemser) needs no introduction.\",\n          \"Based on some ancient Indonesian legends.\",\n          \"Gary Ross builds bridges with wide arches between the sporting enterprises - between 1935 and 1937 - of Seabiscuit and the story of a nation that wants to come back to life, but continually loses a sense of measure and dryness.\"\n        ],\n        \"semantic_type\": \"\",\n        \"description\": \"\"\n      }\n    },\n    {\n      \"column\": \"humor\",\n      \"properties\": {\n        \"dtype\": \"number\",\n        \"std\": 0,\n        \"min\": 0,\n        \"max\": 5,\n        \"num_unique_values\": 6,\n        \"samples\": [\n          3,\n          0,\n          5\n        ],\n        \"semantic_type\": \"\",\n        \"description\": \"\"\n      }\n    },\n    {\n      \"column\": \"rhythm\",\n      \"properties\": {\n        \"dtype\": \"number\",\n        \"std\": 1,\n        \"min\": 0,\n        \"max\": 5,\n        \"num_unique_values\": 6,\n        \"samples\": [\n          3,\n          2,\n          5\n        ],\n        \"semantic_type\": \"\",\n        \"description\": \"\"\n      }\n    },\n    {\n      \"column\": \"effort\",\n      \"properties\": {\n        \"dtype\": \"number\",\n        \"std\": 1,\n        \"min\": 0,\n        \"max\": 5,\n        \"num_unique_values\": 6,\n        \"samples\": [\n          0,\n          1,\n          5\n        ],\n        \"semantic_type\": \"\",\n        \"description\": \"\"\n      }\n    },\n    {\n      \"column\": \"tension\",\n      \"properties\": {\n        \"dtype\": \"number\",\n        \"std\": 1,\n        \"min\": 0,\n        \"max\": 5,\n        \"num_unique_values\": 6,\n        \"samples\": [\n          0,\n          2,\n          5\n        ],\n        \"semantic_type\": \"\",\n        \"description\": \"\"\n      }\n    },\n    {\n      \"column\": \"erotism\",\n      \"properties\": {\n        \"dtype\": \"number\",\n        \"std\": 0,\n        \"min\": 0,\n        \"max\": 5,\n        \"num_unique_values\": 6,\n        \"samples\": [\n          0,\n          2,\n          5\n        ],\n        \"semantic_type\": \"\",\n        \"description\": \"\"\n      }\n    }\n  ]\n}"
            }
          },
          "metadata": {},
          "execution_count": 3
        }
      ]
    },
    {
      "cell_type": "code",
      "source": [
        "df['duration'].mean()"
      ],
      "metadata": {
        "colab": {
          "base_uri": "https://localhost:8080/"
        },
        "id": "OqTSB6ja-QWt",
        "outputId": "6b19c219-f894-44d4-808e-35fa6f46adf4"
      },
      "execution_count": null,
      "outputs": [
        {
          "output_type": "execute_result",
          "data": {
            "text/plain": [
              "100.53716273339936"
            ]
          },
          "metadata": {},
          "execution_count": 7
        }
      ]
    },
    {
      "cell_type": "code",
      "source": [
        "df['avg_vote'].sort_values(ascending=False).head(1)"
      ],
      "metadata": {
        "colab": {
          "base_uri": "https://localhost:8080/",
          "height": 115
        },
        "id": "putP2zvl-zIT",
        "outputId": "ba2bf208-58ea-4736-b10c-1748cea44691"
      },
      "execution_count": null,
      "outputs": [
        {
          "output_type": "execute_result",
          "data": {
            "text/plain": [
              "22024    10.0\n",
              "Name: avg_vote, dtype: float64"
            ],
            "text/html": [
              "<div>\n",
              "<style scoped>\n",
              "    .dataframe tbody tr th:only-of-type {\n",
              "        vertical-align: middle;\n",
              "    }\n",
              "\n",
              "    .dataframe tbody tr th {\n",
              "        vertical-align: top;\n",
              "    }\n",
              "\n",
              "    .dataframe thead th {\n",
              "        text-align: right;\n",
              "    }\n",
              "</style>\n",
              "<table border=\"1\" class=\"dataframe\">\n",
              "  <thead>\n",
              "    <tr style=\"text-align: right;\">\n",
              "      <th></th>\n",
              "      <th>avg_vote</th>\n",
              "    </tr>\n",
              "  </thead>\n",
              "  <tbody>\n",
              "    <tr>\n",
              "      <th>22024</th>\n",
              "      <td>10.0</td>\n",
              "    </tr>\n",
              "  </tbody>\n",
              "</table>\n",
              "</div><br><label><b>dtype:</b> float64</label>"
            ]
          },
          "metadata": {},
          "execution_count": 8
        }
      ]
    },
    {
      "cell_type": "code",
      "source": [
        "df.sort_values(by=\"avg_vote\",ascending=False).head(1)\n"
      ],
      "metadata": {
        "colab": {
          "base_uri": "https://localhost:8080/",
          "height": 205
        },
        "id": "oS5SYu6cA39X",
        "outputId": "80007acc-08ab-4cf3-810b-a8338db1b881"
      },
      "execution_count": null,
      "outputs": [
        {
          "output_type": "execute_result",
          "data": {
            "text/plain": [
              "       filmtv_id           title  year   genre  duration        country  \\\n",
              "22024      38583  Kiss the Bride  2007  Comedy       100  United States   \n",
              "\n",
              "        directors                                             actors  \\\n",
              "22024  C. Jay Cox  Tori Spelling, Philipp Karner, James O'Shea, J...   \n",
              "\n",
              "       avg_vote  critics_vote  public_vote  total_votes  \\\n",
              "22024      10.0           NaN         10.0            3   \n",
              "\n",
              "                                             description notes  humor  rhythm  \\\n",
              "22024  At high school, Matt and Ryan were best friend...   NaN      0       0   \n",
              "\n",
              "       effort  tension  erotism  \n",
              "22024       0        0        0  "
            ],
            "text/html": [
              "\n",
              "  <div id=\"df-52eb6b9d-b371-4705-8a67-5cf83f711e16\" class=\"colab-df-container\">\n",
              "    <div>\n",
              "<style scoped>\n",
              "    .dataframe tbody tr th:only-of-type {\n",
              "        vertical-align: middle;\n",
              "    }\n",
              "\n",
              "    .dataframe tbody tr th {\n",
              "        vertical-align: top;\n",
              "    }\n",
              "\n",
              "    .dataframe thead th {\n",
              "        text-align: right;\n",
              "    }\n",
              "</style>\n",
              "<table border=\"1\" class=\"dataframe\">\n",
              "  <thead>\n",
              "    <tr style=\"text-align: right;\">\n",
              "      <th></th>\n",
              "      <th>filmtv_id</th>\n",
              "      <th>title</th>\n",
              "      <th>year</th>\n",
              "      <th>genre</th>\n",
              "      <th>duration</th>\n",
              "      <th>country</th>\n",
              "      <th>directors</th>\n",
              "      <th>actors</th>\n",
              "      <th>avg_vote</th>\n",
              "      <th>critics_vote</th>\n",
              "      <th>public_vote</th>\n",
              "      <th>total_votes</th>\n",
              "      <th>description</th>\n",
              "      <th>notes</th>\n",
              "      <th>humor</th>\n",
              "      <th>rhythm</th>\n",
              "      <th>effort</th>\n",
              "      <th>tension</th>\n",
              "      <th>erotism</th>\n",
              "    </tr>\n",
              "  </thead>\n",
              "  <tbody>\n",
              "    <tr>\n",
              "      <th>22024</th>\n",
              "      <td>38583</td>\n",
              "      <td>Kiss the Bride</td>\n",
              "      <td>2007</td>\n",
              "      <td>Comedy</td>\n",
              "      <td>100</td>\n",
              "      <td>United States</td>\n",
              "      <td>C. Jay Cox</td>\n",
              "      <td>Tori Spelling, Philipp Karner, James O'Shea, J...</td>\n",
              "      <td>10.0</td>\n",
              "      <td>NaN</td>\n",
              "      <td>10.0</td>\n",
              "      <td>3</td>\n",
              "      <td>At high school, Matt and Ryan were best friend...</td>\n",
              "      <td>NaN</td>\n",
              "      <td>0</td>\n",
              "      <td>0</td>\n",
              "      <td>0</td>\n",
              "      <td>0</td>\n",
              "      <td>0</td>\n",
              "    </tr>\n",
              "  </tbody>\n",
              "</table>\n",
              "</div>\n",
              "    <div class=\"colab-df-buttons\">\n",
              "\n",
              "  <div class=\"colab-df-container\">\n",
              "    <button class=\"colab-df-convert\" onclick=\"convertToInteractive('df-52eb6b9d-b371-4705-8a67-5cf83f711e16')\"\n",
              "            title=\"Convert this dataframe to an interactive table.\"\n",
              "            style=\"display:none;\">\n",
              "\n",
              "  <svg xmlns=\"http://www.w3.org/2000/svg\" height=\"24px\" viewBox=\"0 -960 960 960\">\n",
              "    <path d=\"M120-120v-720h720v720H120Zm60-500h600v-160H180v160Zm220 220h160v-160H400v160Zm0 220h160v-160H400v160ZM180-400h160v-160H180v160Zm440 0h160v-160H620v160ZM180-180h160v-160H180v160Zm440 0h160v-160H620v160Z\"/>\n",
              "  </svg>\n",
              "    </button>\n",
              "\n",
              "  <style>\n",
              "    .colab-df-container {\n",
              "      display:flex;\n",
              "      gap: 12px;\n",
              "    }\n",
              "\n",
              "    .colab-df-convert {\n",
              "      background-color: #E8F0FE;\n",
              "      border: none;\n",
              "      border-radius: 50%;\n",
              "      cursor: pointer;\n",
              "      display: none;\n",
              "      fill: #1967D2;\n",
              "      height: 32px;\n",
              "      padding: 0 0 0 0;\n",
              "      width: 32px;\n",
              "    }\n",
              "\n",
              "    .colab-df-convert:hover {\n",
              "      background-color: #E2EBFA;\n",
              "      box-shadow: 0px 1px 2px rgba(60, 64, 67, 0.3), 0px 1px 3px 1px rgba(60, 64, 67, 0.15);\n",
              "      fill: #174EA6;\n",
              "    }\n",
              "\n",
              "    .colab-df-buttons div {\n",
              "      margin-bottom: 4px;\n",
              "    }\n",
              "\n",
              "    [theme=dark] .colab-df-convert {\n",
              "      background-color: #3B4455;\n",
              "      fill: #D2E3FC;\n",
              "    }\n",
              "\n",
              "    [theme=dark] .colab-df-convert:hover {\n",
              "      background-color: #434B5C;\n",
              "      box-shadow: 0px 1px 3px 1px rgba(0, 0, 0, 0.15);\n",
              "      filter: drop-shadow(0px 1px 2px rgba(0, 0, 0, 0.3));\n",
              "      fill: #FFFFFF;\n",
              "    }\n",
              "  </style>\n",
              "\n",
              "    <script>\n",
              "      const buttonEl =\n",
              "        document.querySelector('#df-52eb6b9d-b371-4705-8a67-5cf83f711e16 button.colab-df-convert');\n",
              "      buttonEl.style.display =\n",
              "        google.colab.kernel.accessAllowed ? 'block' : 'none';\n",
              "\n",
              "      async function convertToInteractive(key) {\n",
              "        const element = document.querySelector('#df-52eb6b9d-b371-4705-8a67-5cf83f711e16');\n",
              "        const dataTable =\n",
              "          await google.colab.kernel.invokeFunction('convertToInteractive',\n",
              "                                                    [key], {});\n",
              "        if (!dataTable) return;\n",
              "\n",
              "        const docLinkHtml = 'Like what you see? Visit the ' +\n",
              "          '<a target=\"_blank\" href=https://colab.research.google.com/notebooks/data_table.ipynb>data table notebook</a>'\n",
              "          + ' to learn more about interactive tables.';\n",
              "        element.innerHTML = '';\n",
              "        dataTable['output_type'] = 'display_data';\n",
              "        await google.colab.output.renderOutput(dataTable, element);\n",
              "        const docLink = document.createElement('div');\n",
              "        docLink.innerHTML = docLinkHtml;\n",
              "        element.appendChild(docLink);\n",
              "      }\n",
              "    </script>\n",
              "  </div>\n",
              "\n",
              "\n",
              "    </div>\n",
              "  </div>\n"
            ],
            "application/vnd.google.colaboratory.intrinsic+json": {
              "type": "dataframe",
              "repr_error": "0"
            }
          },
          "metadata": {},
          "execution_count": 13
        }
      ]
    },
    {
      "cell_type": "code",
      "source": [
        "us_movies_count = df[df['country'] == 'United States'].shape[0]\n",
        "print(f\"Number of movies from the United States: {us_movies_count}\")"
      ],
      "metadata": {
        "colab": {
          "base_uri": "https://localhost:8080/"
        },
        "id": "g_oQHWR_BYcy",
        "outputId": "0f2675bf-1c5e-4cb4-e389-b7568233b2b8"
      },
      "execution_count": null,
      "outputs": [
        {
          "output_type": "stream",
          "name": "stdout",
          "text": [
            "Number of movies from the United States: 16490\n"
          ]
        }
      ]
    },
    {
      "cell_type": "code",
      "source": [
        "movie_votes = df[df['title'] == \"18 anni tra una settimana\"]['total_votes'].values\n",
        "total_votes = movie_votes[0] if len(movie_votes) > 0 else \"Not Found\"\n",
        "print(f\"Total number of votes for '18 anni tra una settimana': {total_votes}\")"
      ],
      "metadata": {
        "colab": {
          "base_uri": "https://localhost:8080/"
        },
        "id": "oYCyqMRVCYxi",
        "outputId": "6c5c065c-b097-4a8f-a824-ffb2ba30e008"
      },
      "execution_count": null,
      "outputs": [
        {
          "output_type": "stream",
          "name": "stdout",
          "text": [
            "Total number of votes for '18 anni tra una settimana': 4\n"
          ]
        }
      ]
    },
    {
      "cell_type": "code",
      "source": [
        "top_critics_votes_movie = df.sort_values(by='critics_vote', ascending=False).head(1)\n",
        "highest_critics_votes_movie = top_critics_votes_movie['title'].values[0]\n",
        "highest_critics_votes = top_critics_votes_movie['critics_vote'].values[0]\n",
        "print(f\"Movie with the highest number of critics votes: '{highest_critics_votes_movie}' with {highest_critics_votes} critics votes\")"
      ],
      "metadata": {
        "colab": {
          "base_uri": "https://localhost:8080/"
        },
        "id": "Sx8mvhO1ChMe",
        "outputId": "984aef9b-b837-4344-fd0f-2575dfd33395"
      },
      "execution_count": null,
      "outputs": [
        {
          "output_type": "stream",
          "name": "stdout",
          "text": [
            "Movie with the highest number of critics votes: 'Regina' with 10.0 critics votes\n"
          ]
        }
      ]
    },
    {
      "cell_type": "code",
      "source": [
        "movie_genre = df[df['title'] == \"Ride a Wild Pony\"]['genre'].values\n",
        "genre = movie_genre[0] if len(movie_genre) > 0 else \"Not Found\"\n",
        "print(f\"Genre of 'Ride a Wild Pony': {genre}\")"
      ],
      "metadata": {
        "colab": {
          "base_uri": "https://localhost:8080/"
        },
        "id": "cP8qaypgCwwI",
        "outputId": "74697b39-b884-4e71-875c-305630aa5800"
      },
      "execution_count": null,
      "outputs": [
        {
          "output_type": "stream",
          "name": "stdout",
          "text": [
            "Genre of 'Ride a Wild Pony': Romantic\n"
          ]
        }
      ]
    },
    {
      "cell_type": "code",
      "source": [
        "directors = df[df['title'] == \"Bugs Bunny's Third Movie: 1001 Rabbit Tales\"]['directors'].values\n",
        "num_directors = len(directors[0].split(',')) if len(directors) > 0 and directors[0] != \"NaN\" else \"Not Found\"\n",
        "print(f\"Number of directors for 'Bugs Bunny's Third Movie: 1001 Rabbit Tales': {num_directors}\")"
      ],
      "metadata": {
        "colab": {
          "base_uri": "https://localhost:8080/"
        },
        "id": "xa8zHyJDC5p5",
        "outputId": "2be915a0-94d5-4d6f-dd77-78142f19ebba"
      },
      "execution_count": null,
      "outputs": [
        {
          "output_type": "stream",
          "name": "stdout",
          "text": [
            "Number of directors for 'Bugs Bunny's Third Movie: 1001 Rabbit Tales': 3\n"
          ]
        }
      ]
    },
    {
      "cell_type": "code",
      "source": [
        "\n",
        "top_humor_rating_movie = df.sort_values(by='humor', ascending=False).head(1)\n",
        "highest_humor_rating_movie = top_humor_rating_movie['title'].values[0]\n",
        "highest_humor_rating = top_humor_rating_movie['humor'].values[0]\n",
        "print(f\"Movie with the highest humor rating: '{highest_humor_rating_movie}' with a humor rating of {highest_humor_rating}\")\n"
      ],
      "metadata": {
        "colab": {
          "base_uri": "https://localhost:8080/"
        },
        "id": "s0qRVB65DDpx",
        "outputId": "6c340c70-f6b1-4f21-e9d9-a6fa520bb837"
      },
      "execution_count": null,
      "outputs": [
        {
          "output_type": "stream",
          "name": "stdout",
          "text": [
            "Movie with the highest humor rating: 'The Merry Widow' with a humor rating of 5\n"
          ]
        }
      ]
    },
    {
      "cell_type": "code",
      "source": [
        "\n",
        "average_rhythm_rating = df['rhythm'].mean()\n",
        "print(f\"Average rhythm rating of all movies: {average_rhythm_rating:.2f}\")\n"
      ],
      "metadata": {
        "colab": {
          "base_uri": "https://localhost:8080/"
        },
        "id": "1TwYS2X6DRC5",
        "outputId": "be464fc2-bd6e-4342-cd4a-b9671a741766"
      },
      "execution_count": null,
      "outputs": [
        {
          "output_type": "stream",
          "name": "stdout",
          "text": [
            "Average rhythm rating of all movies: 1.35\n"
          ]
        }
      ]
    },
    {
      "cell_type": "code",
      "source": [
        "\n",
        "lowest_public_vote_movie = df.sort_values(by='public_vote', ascending=True).head(1)\n",
        "lowest_public_vote_title = lowest_public_vote_movie['title'].values[0]\n",
        "lowest_public_vote = lowest_public_vote_movie['public_vote'].values[0]\n",
        "print(f\"Movie with the lowest public vote: '{lowest_public_vote_title}' with a public vote of {lowest_public_vote}\")\n"
      ],
      "metadata": {
        "colab": {
          "base_uri": "https://localhost:8080/"
        },
        "id": "uhNqvdm5DYSe",
        "outputId": "1e1d4cd7-24f0-49a8-b6b0-99f9778ce771"
      },
      "execution_count": null,
      "outputs": [
        {
          "output_type": "stream",
          "name": "stdout",
          "text": [
            "Movie with the lowest public vote: 'Bad Trip' with a public vote of 1.0\n"
          ]
        }
      ]
    },
    {
      "cell_type": "code",
      "source": [
        "diner_year = df[df['title'] == \"Diner\"]['year'].values\n",
        "year = diner_year[0] if len(diner_year) > 0 else \"Not Found\"\n",
        "print(f\"Year of release for 'Diner': {year}\")\n"
      ],
      "metadata": {
        "colab": {
          "base_uri": "https://localhost:8080/"
        },
        "id": "WKS8EJKyDl6x",
        "outputId": "3ea57ff1-ae2b-4c6a-87ce-bf1cddf6f4de"
      },
      "execution_count": null,
      "outputs": [
        {
          "output_type": "stream",
          "name": "stdout",
          "text": [
            "Year of release for 'Diner': 1982\n"
          ]
        }
      ]
    },
    {
      "cell_type": "code",
      "source": [
        "country_18_anni = df[df['title'] == \"18 anni tra una settimana\"]['country'].values\n",
        "print(f\"Country for '18 anni tra una settimana': {country_18_anni[0] if len(country_18_anni) > 0 else 'Not Found'}\")"
      ],
      "metadata": {
        "colab": {
          "base_uri": "https://localhost:8080/"
        },
        "id": "iyVNtqJiD5Kc",
        "outputId": "6884e8b9-cd1f-4478-df89-b9ad8ac8d1b3"
      },
      "execution_count": null,
      "outputs": [
        {
          "output_type": "stream",
          "name": "stdout",
          "text": [
            "Country for '18 anni tra una settimana': Italy\n"
          ]
        }
      ]
    },
    {
      "cell_type": "code",
      "source": [
        "erotism_rating = df[df['title'] == \"In Bed With Madonna\"]['erotism'].values\n",
        "print(f\"Erotism rating for 'In Bed With Madonna': {erotism_rating[0] if len(erotism_rating) > 0 else 'Not Found'}\")\n"
      ],
      "metadata": {
        "colab": {
          "base_uri": "https://localhost:8080/"
        },
        "id": "zmxwKC1JER7b",
        "outputId": "b8b25b78-bf2f-48b9-ba64-1bd26b0f2d6f"
      },
      "execution_count": null,
      "outputs": [
        {
          "output_type": "stream",
          "name": "stdout",
          "text": [
            "Erotism rating for 'In Bed With Madonna': 2\n"
          ]
        }
      ]
    },
    {
      "cell_type": "code",
      "source": [
        "average_tension_rating = df['tension'].mean()\n",
        "print(f\"Average tension rating of all movies: {average_tension_rating:.2f}\")"
      ],
      "metadata": {
        "colab": {
          "base_uri": "https://localhost:8080/"
        },
        "id": "yuwk1Zj1EZLY",
        "outputId": "a3e557b2-f8ea-4933-df9c-e82a49eaf4ab"
      },
      "execution_count": null,
      "outputs": [
        {
          "output_type": "stream",
          "name": "stdout",
          "text": [
            "Average tension rating of all movies: 0.92\n"
          ]
        }
      ]
    },
    {
      "cell_type": "code",
      "source": [
        "longest_duration_movie = df.sort_values(by='duration', ascending=False).head(1)\n",
        "longest_duration_title = longest_duration_movie['title'].values[0]\n",
        "longest_duration = longest_duration_movie['duration'].values[0]\n",
        "print(f\"Movie with the longest duration: '{longest_duration_title}' with a duration of {longest_duration} minutes\")\n"
      ],
      "metadata": {
        "colab": {
          "base_uri": "https://localhost:8080/"
        },
        "id": "O7_uLPCiEd9d",
        "outputId": "f87ec973-6db6-4f75-8da9-b52ed3b9f542"
      },
      "execution_count": null,
      "outputs": [
        {
          "output_type": "stream",
          "name": "stdout",
          "text": [
            "Movie with the longest duration: 'Die Zweite Heimat - Chronik einer Jugend' with a duration of 1525 minutes\n"
          ]
        }
      ]
    },
    {
      "cell_type": "code",
      "source": [
        "director_ride_a_wild_pony = df[df['title'] == \"Ride a Wild Pony\"]['directors'].values\n",
        "print(f\"Director of 'Ride a Wild Pony': {director_ride_a_wild_pony[0] if len(director_ride_a_wild_pony) > 0 else 'Not Found'}\")"
      ],
      "metadata": {
        "colab": {
          "base_uri": "https://localhost:8080/"
        },
        "id": "haWGD9zrEl-c",
        "outputId": "bdec5712-d7e3-4a9e-8147-b2d62faf4766"
      },
      "execution_count": null,
      "outputs": [
        {
          "output_type": "stream",
          "name": "stdout",
          "text": [
            "Director of 'Ride a Wild Pony': Don Chaffey\n"
          ]
        }
      ]
    },
    {
      "cell_type": "code",
      "source": [
        "votes_ride_a_wild_pony = df[df['title'] == \"Ride a Wild Pony\"]['total_votes'].values\n",
        "print(f\"Total number of votes for 'Ride a Wild Pony': {votes_ride_a_wild_pony[0] if len(votes_ride_a_wild_pony) > 0 else 'Not Found'}\")"
      ],
      "metadata": {
        "colab": {
          "base_uri": "https://localhost:8080/"
        },
        "id": "yuyHKULNEyTo",
        "outputId": "72f1c10d-e6eb-454b-87e1-fa22ebd64571"
      },
      "execution_count": null,
      "outputs": [
        {
          "output_type": "stream",
          "name": "stdout",
          "text": [
            "Total number of votes for 'Ride a Wild Pony': 10\n"
          ]
        }
      ]
    },
    {
      "cell_type": "code",
      "source": [
        "actors_mr_majestyk = df[df['title'] == \"Mr. Majestyk\"]['actors'].values\n",
        "num_actors = len(actors_mr_majestyk[0].split(',')) if len(actors_mr_majestyk) > 0 and actors_mr_majestyk[0] != \"NaN\" else \"Not Found\"\n",
        "print(f\"Number of actors listed for 'Mr. Majestyk': {num_actors}\")"
      ],
      "metadata": {
        "colab": {
          "base_uri": "https://localhost:8080/"
        },
        "id": "mi8Ak_jpE3-t",
        "outputId": "b8d00ad3-ea08-4765-9f51-05157022eda6"
      },
      "execution_count": null,
      "outputs": [
        {
          "output_type": "stream",
          "name": "stdout",
          "text": [
            "Number of actors listed for 'Mr. Majestyk': 4\n"
          ]
        }
      ]
    },
    {
      "cell_type": "code",
      "source": [
        "highest_total_vote_movie = df.sort_values(by='total_votes', ascending=False).head(1)\n",
        "highest_total_vote_title = highest_total_vote_movie['title'].values[0]\n",
        "highest_total_vote = highest_total_vote_movie['total_votes'].values[0]\n",
        "print(f\"Movie with the highest total vote count: '{highest_total_vote_title}' with {highest_total_vote} votes\")"
      ],
      "metadata": {
        "colab": {
          "base_uri": "https://localhost:8080/"
        },
        "id": "kQU0O8TSE-bt",
        "outputId": "84774469-965b-440e-81af-2d8c245fc266"
      },
      "execution_count": null,
      "outputs": [
        {
          "output_type": "stream",
          "name": "stdout",
          "text": [
            "Movie with the highest total vote count: 'Pulp Fiction' with 1082 votes\n"
          ]
        }
      ]
    },
    {
      "cell_type": "code",
      "source": [
        "rhythm_rating_ride_a_wild_pony = df[df['title'] == \"Ride a Wild Pony\"]['rhythm'].values\n",
        "print(f\"Rhythm rating for 'Ride a Wild Pony': {rhythm_rating_ride_a_wild_pony[0] if len(rhythm_rating_ride_a_wild_pony) > 0 else 'Not Found'}\")"
      ],
      "metadata": {
        "colab": {
          "base_uri": "https://localhost:8080/"
        },
        "id": "UARUtgsiFGGM",
        "outputId": "97dd84c8-a805-4382-cf39-936c8bea7257"
      },
      "execution_count": null,
      "outputs": [
        {
          "output_type": "stream",
          "name": "stdout",
          "text": [
            "Rhythm rating for 'Ride a Wild Pony': 2\n"
          ]
        }
      ]
    },
    {
      "cell_type": "code",
      "source": [
        "movie_with_young_drifter = df[df['description'].str.contains('young drifter', case=False, na=False)]['title']\n",
        "print(f\"Movies with a description mentioning a young drifter: {movie_with_young_drifter.tolist()}\")\n"
      ],
      "metadata": {
        "colab": {
          "base_uri": "https://localhost:8080/"
        },
        "id": "GqRzaPW-FOH8",
        "outputId": "45df5f2f-235a-4185-ff71-b91ea842b023"
      },
      "execution_count": null,
      "outputs": [
        {
          "output_type": "stream",
          "name": "stdout",
          "text": [
            "Movies with a description mentioning a young drifter: ['18 anni tra una settimana', 'My Beautiful Laundrette', 'En plein coeur', 'Les valseuses']\n"
          ]
        }
      ]
    },
    {
      "cell_type": "code",
      "source": [
        "genre_arret_sur_image = df[df['title'] == \"Arrêt sur image\"]['genre'].values\n",
        "print(f\"Genre of 'Arrêt sur image': {genre_arret_sur_image[0] if len(genre_arret_sur_image) > 0 else 'Not Found'}\")\n"
      ],
      "metadata": {
        "colab": {
          "base_uri": "https://localhost:8080/"
        },
        "id": "0pHYvxQaFTYn",
        "outputId": "cea9681d-8493-4d40-e3aa-0aea6bb014de"
      },
      "execution_count": null,
      "outputs": [
        {
          "output_type": "stream",
          "name": "stdout",
          "text": [
            "Genre of 'Arrêt sur image': Drama\n"
          ]
        }
      ]
    },
    {
      "cell_type": "code",
      "source": [
        "movies_with_erotism_rating_0 = df[df['erotism'] == 0].shape[0]\n",
        "print(f\"Number of movies with an erotism rating of 0: {movies_with_erotism_rating_0}\")\n"
      ],
      "metadata": {
        "colab": {
          "base_uri": "https://localhost:8080/"
        },
        "id": "Bh6rjFbwFYWa",
        "outputId": "ae564544-8836-46ac-e43f-7c5591d06c1d"
      },
      "execution_count": null,
      "outputs": [
        {
          "output_type": "stream",
          "name": "stdout",
          "text": [
            "Number of movies with an erotism rating of 0: 31988\n"
          ]
        }
      ]
    },
    {
      "cell_type": "code",
      "source": [
        "average_public_vote = df['public_vote'].mean()\n",
        "print(f\"Average public vote of all movies: {average_public_vote:.2f}\")\n"
      ],
      "metadata": {
        "colab": {
          "base_uri": "https://localhost:8080/"
        },
        "id": "spARBRwmFfG1",
        "outputId": "93314d98-4921-4c92-e1c5-a37017b23da4"
      },
      "execution_count": null,
      "outputs": [
        {
          "output_type": "stream",
          "name": "stdout",
          "text": [
            "Average public vote of all movies: 5.92\n"
          ]
        }
      ]
    },
    {
      "cell_type": "code",
      "source": [
        "movie_with_warner_cartoons = df[df['description'].str.contains('Warner cartoons', case=False, na=False)]['title']\n",
        "print(f\"Movies with a description mentioning Warner cartoons: {movie_with_warner_cartoons.tolist()}\")\n",
        "\n"
      ],
      "metadata": {
        "colab": {
          "base_uri": "https://localhost:8080/"
        },
        "id": "aYvcZqygFj83",
        "outputId": "034c7c59-cc91-4bbb-8685-d2dd263e3429"
      },
      "execution_count": null,
      "outputs": [
        {
          "output_type": "stream",
          "name": "stdout",
          "text": [
            "Movies with a description mentioning Warner cartoons: [\"Bugs Bunny's Third Movie: 1001 Rabbit Tales\"]\n"
          ]
        }
      ]
    },
    {
      "cell_type": "code",
      "source": [
        "import matplotlib.pyplot as plt\n",
        "yearly_movies_count = df['year'].value_counts().sort_index()\n",
        "yearly_movies_count.plot(kind='bar', figsize=(10, 6))\n",
        "plt.xlabel('Year')\n",
        "plt.ylabel('Number of Movies')\n",
        "plt.title('Number of Movies Released Per Year')\n",
        "plt.xticks(rotation=45)\n",
        "plt.show()"
      ],
      "metadata": {
        "colab": {
          "base_uri": "https://localhost:8080/",
          "height": 585
        },
        "id": "T6cV0bl2FstA",
        "outputId": "7cbcc087-4ce0-45bb-99e7-aca042b2bdee"
      },
      "execution_count": null,
      "outputs": [
        {
          "output_type": "display_data",
          "data": {
            "text/plain": [
              "<Figure size 1000x600 with 1 Axes>"
            ],
            "image/png": "[encoded data removed]"
          },
          "metadata": {}
        }
      ]
    }
  ]
}